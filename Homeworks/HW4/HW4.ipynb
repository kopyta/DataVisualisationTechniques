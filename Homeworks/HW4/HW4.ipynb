{
 "cells": [
  {
   "cell_type": "markdown",
   "metadata": {},
   "source": [
    "## Praca domowa 4"
   ]
  },
  {
   "cell_type": "markdown",
   "metadata": {},
   "source": [
    "#### Autorka: Agata Kopyt"
   ]
  },
  {
   "cell_type": "markdown",
   "metadata": {},
   "source": [
    "### Zadanie 1 (1.5 pkt)"
   ]
  },
  {
   "cell_type": "markdown",
   "metadata": {},
   "source": [
    "Używając funkcji z pakietu `numpy` oraz `pandas` odpowiedz na poniższe pytania dotyczące zbioru danych o grach."
   ]
  },
  {
   "cell_type": "markdown",
   "metadata": {},
   "source": [
    "a) Wybierz gry, które zostały wydane po 2015 roku przez Nintendo oraz ich sprzedaż w Ameryce była niższa niż w Europie.  \n",
    "\n",
    "b) Jak rodzaj gry zarobił najwięcej w roku 2010?\n",
    "\n",
    "c) Jakie typy gier sprzedają się średnio lepiej w Japonii niż w Europie? Jakie to typy gier i jaka jest ta wartość średnia. Wynikiem powinna być tabelka posortowana względem średnich. Nazwij kolumny `Typ Gry` i `Średnia sprzedaż w Japonii`.\n"
   ]
  },
  {
   "cell_type": "code",
   "execution_count": 6,
   "metadata": {},
   "outputs": [],
   "source": [
    "import pandas as pd\n",
    "import numpy as np\n",
    "\n",
    "df = pd.read_csv(\"https://raw.githubusercontent.com/R-Ladies-Warsaw/PoweR/master/Cz%C4%99%C5%9B%C4%87%202%20-%20Formatowanie%20danych/Python/data/vgsales.csv\",\n",
    "                delimiter = \",\").dropna().reset_index(drop = True)\n",
    "df = df.drop(\"Rank\", axis = 1)"
   ]
  },
  {
   "cell_type": "code",
   "execution_count": 7,
   "metadata": {},
   "outputs": [
    {
     "data": {
      "text/html": [
       "<div>\n",
       "<style scoped>\n",
       "    .dataframe tbody tr th:only-of-type {\n",
       "        vertical-align: middle;\n",
       "    }\n",
       "\n",
       "    .dataframe tbody tr th {\n",
       "        vertical-align: top;\n",
       "    }\n",
       "\n",
       "    .dataframe thead th {\n",
       "        text-align: right;\n",
       "    }\n",
       "</style>\n",
       "<table border=\"1\" class=\"dataframe\">\n",
       "  <thead>\n",
       "    <tr style=\"text-align: right;\">\n",
       "      <th></th>\n",
       "      <th>Name</th>\n",
       "      <th>Platform</th>\n",
       "    </tr>\n",
       "  </thead>\n",
       "  <tbody>\n",
       "    <tr>\n",
       "      <th>0</th>\n",
       "      <td>Mario &amp; Sonic at the Rio 2016 Olympic Games</td>\n",
       "      <td>3DS</td>\n",
       "    </tr>\n",
       "    <tr>\n",
       "      <th>1</th>\n",
       "      <td>Mario &amp; Sonic at the Rio 2016 Olympic Games</td>\n",
       "      <td>WiiU</td>\n",
       "    </tr>\n",
       "    <tr>\n",
       "      <th>2</th>\n",
       "      <td>Teddy Together</td>\n",
       "      <td>3DS</td>\n",
       "    </tr>\n",
       "  </tbody>\n",
       "</table>\n",
       "</div>"
      ],
      "text/plain": [
       "                                          Name Platform\n",
       "0  Mario & Sonic at the Rio 2016 Olympic Games      3DS\n",
       "1  Mario & Sonic at the Rio 2016 Olympic Games     WiiU\n",
       "2                               Teddy Together      3DS"
      ]
     },
     "execution_count": 7,
     "metadata": {},
     "output_type": "execute_result"
    }
   ],
   "source": [
    "# Rozwiązanie a)\n",
    "a = df.loc[(df.Year>2015 )& (df.Publisher ==\"Nintendo\")&(df.NA_Sales<df.EU_Sales)][['Name','Platform']].reset_index(drop=True)\n",
    "a"
   ]
  },
  {
   "cell_type": "code",
   "execution_count": 8,
   "metadata": {},
   "outputs": [
    {
     "data": {
      "text/html": [
       "<div>\n",
       "<style scoped>\n",
       "    .dataframe tbody tr th:only-of-type {\n",
       "        vertical-align: middle;\n",
       "    }\n",
       "\n",
       "    .dataframe tbody tr th {\n",
       "        vertical-align: top;\n",
       "    }\n",
       "\n",
       "    .dataframe thead th {\n",
       "        text-align: right;\n",
       "    }\n",
       "</style>\n",
       "<table border=\"1\" class=\"dataframe\">\n",
       "  <thead>\n",
       "    <tr style=\"text-align: right;\">\n",
       "      <th></th>\n",
       "      <th>Genre</th>\n",
       "      <th>Global_Sales</th>\n",
       "    </tr>\n",
       "  </thead>\n",
       "  <tbody>\n",
       "    <tr>\n",
       "      <th>0</th>\n",
       "      <td>Action</td>\n",
       "      <td>117.64</td>\n",
       "    </tr>\n",
       "  </tbody>\n",
       "</table>\n",
       "</div>"
      ],
      "text/plain": [
       "    Genre  Global_Sales\n",
       "0  Action        117.64"
      ]
     },
     "execution_count": 8,
     "metadata": {},
     "output_type": "execute_result"
    }
   ],
   "source": [
    "# Rozwiązanie b)\n",
    "b = df.loc[df.Year==2010].groupby('Genre').Global_Sales.agg('sum').sort_values(ascending = False).head(1).to_frame().reset_index()\n",
    "# b.Global_Sales.max()\n",
    "b"
   ]
  },
  {
   "cell_type": "code",
   "execution_count": 9,
   "metadata": {},
   "outputs": [
    {
     "data": {
      "text/html": [
       "<div>\n",
       "<style scoped>\n",
       "    .dataframe tbody tr th:only-of-type {\n",
       "        vertical-align: middle;\n",
       "    }\n",
       "\n",
       "    .dataframe tbody tr th {\n",
       "        vertical-align: top;\n",
       "    }\n",
       "\n",
       "    .dataframe thead th {\n",
       "        text-align: right;\n",
       "    }\n",
       "</style>\n",
       "<table border=\"1\" class=\"dataframe\">\n",
       "  <thead>\n",
       "    <tr style=\"text-align: right;\">\n",
       "      <th></th>\n",
       "      <th>Typ Gry</th>\n",
       "      <th>Średnia sprzedaż w Japonii</th>\n",
       "    </tr>\n",
       "  </thead>\n",
       "  <tbody>\n",
       "    <tr>\n",
       "      <th>0</th>\n",
       "      <td>Strategy</td>\n",
       "      <td>0.073284</td>\n",
       "    </tr>\n",
       "    <tr>\n",
       "      <th>1</th>\n",
       "      <td>Puzzle</td>\n",
       "      <td>0.099439</td>\n",
       "    </tr>\n",
       "    <tr>\n",
       "      <th>2</th>\n",
       "      <td>Role-Playing</td>\n",
       "      <td>0.238293</td>\n",
       "    </tr>\n",
       "  </tbody>\n",
       "</table>\n",
       "</div>"
      ],
      "text/plain": [
       "        Typ Gry  Średnia sprzedaż w Japonii\n",
       "0      Strategy                    0.073284\n",
       "1        Puzzle                    0.099439\n",
       "2  Role-Playing                    0.238293"
      ]
     },
     "execution_count": 9,
     "metadata": {},
     "output_type": "execute_result"
    }
   ],
   "source": [
    "# Rozwiązanie c)\n",
    "df2 = df.groupby('Genre')[['EU_Sales', 'JP_Sales']].agg('mean')\n",
    "c = df2.loc[df2.EU_Sales < df2.JP_Sales].drop('EU_Sales', axis=1).sort_values(by =\"JP_Sales\", ascending=True).reset_index().rename(columns = {'JP_Sales':'Średnia sprzedaż w Japonii', 'Genre':'Typ Gry'})\n",
    "c"
   ]
  },
  {
   "cell_type": "markdown",
   "metadata": {},
   "source": [
    "### Zadanie 2 (3.5 pkt)"
   ]
  },
  {
   "cell_type": "markdown",
   "metadata": {},
   "source": [
    "Wykorzystując narzędzie do wizualizacji w Pythonie (matplotlib, seaborn) należy poprawić wykres, który był rozwiązaniem pracy domowej 2 (najlepiej poprawić swoją pracę domową, ale można też cudzą).\n",
    "\n",
    "Rozwiązanie powinno zawierać:\n",
    "\n",
    "1) oryginalny wykres wraz ze źródłem\n",
    "\n",
    "2) wykres w ggplot2 wraz z linkiem do pracy domowej w której się on pojawił (kod nie jest potrzebny)\n",
    "\n",
    "3) poprawiony wykres z punktu 2) w Pythonie\n",
    "\n",
    "4) uzasadnienie, czemu wykres w Pythonie jest lepszy od dwóch pozostałych."
   ]
  },
  {
   "cell_type": "markdown",
   "metadata": {},
   "source": [
    "### Rozwiązanie zadania 2\n",
    "\n",
    "#### 1)\n",
    "\n",
    "Źródło: [Rezerwa Ogólna i rezerwy celowe - stan na 30 września 2021r.](https://www.gov.pl/web/finanse/wykresy-za-2021-r)\n",
    "\n",
    "Wizualizacja do poprawy\n",
    "![Wizualizacja do poprawy](Wizualizacja.png \"Title\")\n",
    "\n",
    "#### 2)\n",
    "\n",
    "Wykres poprawiony w ggplot2\n",
    "\n",
    "[Praca domowa, z której został zaczerpnięty](https://github.com/mini-pw/2022Z-DataVisualizationTechniques/tree/main/homeworks/hw2/Kopyt_Agata/Kopyt_Agata_hw2.pdf)\n",
    "![Wykres poprawiony w ggplot2](Wykres_ggplot2.png \"Title\")\n",
    "\n",
    "#### 3) \n",
    "\n",
    "Wykres poprawiony w Pythonie"
   ]
  },
  {
   "cell_type": "code",
   "execution_count": 10,
   "metadata": {},
   "outputs": [
    {
     "data": {
      "image/png": "[encoded data removed]",
      "text/plain": [
       "<Figure size 648x648 with 1 Axes>"
      ]
     },
     "metadata": {},
     "output_type": "display_data"
    }
   ],
   "source": [
    "import seaborn as sns\n",
    "import matplotlib.pyplot as plt\n",
    "from matplotlib.ticker import PercentFormatter\n",
    "sns.set(rc = {'figure.figsize': (9,9)})\n",
    "\n",
    "df = pd.read_csv('RezerwaOgolna', encoding='unicode_escape')\n",
    "df.at[1,'stanRezerwy']='Pozostało'\n",
    "df.kwota = df.kwota/df.kwota.sum()\n",
    "\n",
    "fig, ax = plt.subplots()\n",
    "ax.bar('stanRezerwy', df.iat[0,1],align='center', label=df.iat[0,0], color=(\"#5AB4AC\"))\n",
    "ax.bar('stanRezerwy', df.iat[1,1], align='center', bottom=df.iat[0,1],\n",
    "       label=df.iat[1,0],color=(\"#ffa65c\"))\n",
    "\n",
    "ax.legend(bbox_to_anchor=(1, 1),prop={\"size\":20})\n",
    "ax.set(xticklabels=[])\n",
    "plt.suptitle(\"Wykonanie rezerwy ogólnej budżetu państwa\", size =20)\n",
    "plt.title(\"stan na dzień 30.09.2021r.\", size =18)\n",
    "plt.ylabel('udział w kwocie',size = 18)\n",
    "ax.yaxis.set_major_formatter(PercentFormatter(1))\n",
    "plt.margins(x=0.2,y=0.05)\n",
    "\n",
    "plt.show()"
   ]
  },
  {
   "cell_type": "markdown",
   "metadata": {},
   "source": [
    "#### 4)\n",
    "\n",
    "Wykres utworzony w Pythonie jest lepszy od wyykresu początkowego ze względu na te same czynniki (wspomniane w [Pracy domowej nr2](https://github.com/mini-pw/2022Z-DataVisualizationTechniques/tree/main/homeworks/hw2/Kopyt_Agata/Kopyt_Agata_hw2.pdf) ) co wykres utworzony w R.\n",
    "Natomiast pythonowa wizualizacja jest bardziej przystępna od r-owej, bo słupek zaczyna się \"u podstawy wykresu\" i  nie ma dolnego marginesu. Mimo wszystko uważam, że składnia w ggplocie jest bardziej zwięzła i intuicyjna, a dolny margines nie jest już problemem, bo nauczyłam się go usuwać :)"
   ]
  }
 ],
 "metadata": {
  "kernelspec": {
   "display_name": "Python 3",
   "language": "python",
   "name": "python3"
  },
  "language_info": {
   "codemirror_mode": {
    "name": "ipython",
    "version": 3
   },
   "file_extension": ".py",
   "mimetype": "text/x-python",
   "name": "python",
   "nbconvert_exporter": "python",
   "pygments_lexer": "ipython3",
   "version": "3.8.3"
  }
 },
 "nbformat": 4,
 "nbformat_minor": 4
}
